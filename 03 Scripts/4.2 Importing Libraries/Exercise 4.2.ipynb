{
 "cells": [
  {
   "cell_type": "code",
   "execution_count": null,
   "id": "6c2b3b79-d4b8-4ec9-a1f2-895eac7fdf91",
   "metadata": {},
   "outputs": [],
   "source": [
    "# import libraries\n"
   ]
  },
  {
   "cell_type": "code",
   "execution_count": 2,
   "id": "76b3a5d3-987f-4d5b-8b2f-17ebb61404f7",
   "metadata": {},
   "outputs": [],
   "source": [
    "import pandas as pd\n",
    "import numpy as np \n",
    "import os"
   ]
  },
  {
   "cell_type": "code",
   "execution_count": 4,
   "id": "58e54dea-65e3-4edb-9e58-2e5901b3bc69",
   "metadata": {},
   "outputs": [],
   "source": [
    "# Code 3 different ways of reaching a result of 100"
   ]
  },
  {
   "cell_type": "code",
   "execution_count": 6,
   "id": "750eaadd-b63a-46a6-88c8-2ffe30012024",
   "metadata": {},
   "outputs": [],
   "source": [
    "x = 50"
   ]
  },
  {
   "cell_type": "code",
   "execution_count": 8,
   "id": "1dd866e4-3b97-4aa2-8a83-ea375c25d03f",
   "metadata": {},
   "outputs": [],
   "source": [
    "y = 50"
   ]
  },
  {
   "cell_type": "code",
   "execution_count": 10,
   "id": "2c6b7696-9cb7-4db3-8cb7-f8df6a50ae86",
   "metadata": {},
   "outputs": [
    {
     "data": {
      "text/plain": [
       "100"
      ]
     },
     "execution_count": 10,
     "metadata": {},
     "output_type": "execute_result"
    }
   ],
   "source": [
    "x + y"
   ]
  },
  {
   "cell_type": "code",
   "execution_count": 103,
   "id": "12a31670-18e2-4da2-8b64-6d69b2019928",
   "metadata": {},
   "outputs": [],
   "source": [
    "x = 283"
   ]
  },
  {
   "cell_type": "code",
   "execution_count": 105,
   "id": "e3b5eb63-0307-4c60-9e8d-424e843a4faa",
   "metadata": {},
   "outputs": [],
   "source": [
    "y = 183 "
   ]
  },
  {
   "cell_type": "code",
   "execution_count": 107,
   "id": "d527b492-dc32-4790-8047-6b35e20993d5",
   "metadata": {},
   "outputs": [
    {
     "data": {
      "text/plain": [
       "100"
      ]
     },
     "execution_count": 107,
     "metadata": {},
     "output_type": "execute_result"
    }
   ],
   "source": [
    "x - y "
   ]
  },
  {
   "cell_type": "code",
   "execution_count": 109,
   "id": "f6a2425c-8d68-4ad5-81c6-32d9c8ae12ab",
   "metadata": {},
   "outputs": [],
   "source": [
    "x = 33"
   ]
  },
  {
   "cell_type": "code",
   "execution_count": 111,
   "id": "2ef81207-2553-4085-911b-026ded02eb8a",
   "metadata": {},
   "outputs": [],
   "source": [
    "y = 33"
   ]
  },
  {
   "cell_type": "code",
   "execution_count": 113,
   "id": "596f4514-5f9d-494e-be2b-8ee7d4fdba82",
   "metadata": {},
   "outputs": [],
   "source": [
    "z = 40 "
   ]
  },
  {
   "cell_type": "code",
   "execution_count": 115,
   "id": "5082c45a-af62-45d2-8b83-b1df3af684f3",
   "metadata": {},
   "outputs": [],
   "source": [
    "S = 6"
   ]
  },
  {
   "cell_type": "code",
   "execution_count": 117,
   "id": "970ca177-f7f2-4dce-bdbd-95b1ff0dcdb8",
   "metadata": {},
   "outputs": [
    {
     "data": {
      "text/plain": [
       "100"
      ]
     },
     "execution_count": 117,
     "metadata": {},
     "output_type": "execute_result"
    }
   ],
   "source": [
    "x + y + z - S"
   ]
  },
  {
   "cell_type": "code",
   "execution_count": 119,
   "id": "19534b8b-ba4f-4eae-b811-8ad45f78b7e2",
   "metadata": {},
   "outputs": [],
   "source": [
    " # Code 2 floating-point variables and divide by each other"
   ]
  },
  {
   "cell_type": "code",
   "execution_count": 127,
   "id": "56110b27-f098-4b8c-970c-b113df876c91",
   "metadata": {},
   "outputs": [],
   "source": [
    "x = 4.66"
   ]
  },
  {
   "cell_type": "code",
   "execution_count": 129,
   "id": "bb6497c8-7e58-408b-8b77-a0368d2e74ff",
   "metadata": {},
   "outputs": [],
   "source": [
    "y = 2.33"
   ]
  },
  {
   "cell_type": "code",
   "execution_count": 131,
   "id": "11815e40-49aa-4af3-adde-0554c9f10f19",
   "metadata": {},
   "outputs": [
    {
     "data": {
      "text/plain": [
       "2.0"
      ]
     },
     "execution_count": 131,
     "metadata": {},
     "output_type": "execute_result"
    }
   ],
   "source": [
    "x/y"
   ]
  },
  {
   "cell_type": "code",
   "execution_count": 133,
   "id": "f6e9f120-6770-490b-a344-ffae51d2084b",
   "metadata": {},
   "outputs": [],
   "source": [
    "x = 54.64"
   ]
  },
  {
   "cell_type": "code",
   "execution_count": 135,
   "id": "4c3f4137-9e8e-49d9-8e40-905d459d3142",
   "metadata": {},
   "outputs": [],
   "source": [
    "y = 3.79"
   ]
  },
  {
   "cell_type": "code",
   "execution_count": 137,
   "id": "a5397973-e5e8-4fb4-baa9-bd2f337854e1",
   "metadata": {},
   "outputs": [
    {
     "data": {
      "text/plain": [
       "14.41688654353562"
      ]
     },
     "execution_count": 137,
     "metadata": {},
     "output_type": "execute_result"
    }
   ],
   "source": [
    "x/y"
   ]
  },
  {
   "cell_type": "code",
   "execution_count": 139,
   "id": "bbdd727e-e529-43cf-940d-9c680a9bbe89",
   "metadata": {},
   "outputs": [],
   "source": [
    "# construct a short word made of seperate strings"
   ]
  },
  {
   "cell_type": "code",
   "execution_count": 141,
   "id": "67a6a384-3ca2-4d19-af7b-f2b6c6e4b4ee",
   "metadata": {},
   "outputs": [],
   "source": [
    "x = \" My cat,Lulu\""
   ]
  },
  {
   "cell_type": "code",
   "execution_count": 149,
   "id": "ebdbdd97-de53-412e-9a04-67dacf30a776",
   "metadata": {},
   "outputs": [],
   "source": [
    "y = \" meowed at\""
   ]
  },
  {
   "cell_type": "code",
   "execution_count": 151,
   "id": "da6fd6db-f0e2-4cb2-897a-f998ff70fb50",
   "metadata": {},
   "outputs": [],
   "source": [
    "z = \" the door.\""
   ]
  },
  {
   "cell_type": "code",
   "execution_count": 153,
   "id": "1ee72d1b-4743-4f27-bb75-92392ad90518",
   "metadata": {},
   "outputs": [
    {
     "data": {
      "text/plain": [
       "' My cat,Lulu meowed at the door.'"
      ]
     },
     "execution_count": 153,
     "metadata": {},
     "output_type": "execute_result"
    }
   ],
   "source": [
    "x + y + z"
   ]
  },
  {
   "cell_type": "code",
   "execution_count": 163,
   "id": "8ce6760c-60ad-4d0b-a752-8ad5e0293742",
   "metadata": {},
   "outputs": [],
   "source": [
    "x = \" My kitchen \""
   ]
  },
  {
   "cell_type": "code",
   "execution_count": 165,
   "id": "02847493-640b-4c35-a5f7-7d36c65574f7",
   "metadata": {},
   "outputs": [],
   "source": [
    "y = \"smells of\""
   ]
  },
  {
   "cell_type": "code",
   "execution_count": 167,
   "id": "4a7bf206-8f21-4d4b-bf05-9e2c0b25b9cb",
   "metadata": {},
   "outputs": [],
   "source": [
    "z = \" banana bread\""
   ]
  },
  {
   "cell_type": "code",
   "execution_count": 169,
   "id": "e4e740af-a2de-43c4-8d66-a56768598608",
   "metadata": {},
   "outputs": [
    {
     "data": {
      "text/plain": [
       "' My kitchen smells of banana bread'"
      ]
     },
     "execution_count": 169,
     "metadata": {},
     "output_type": "execute_result"
    }
   ],
   "source": [
    "x + y + z"
   ]
  },
  {
   "cell_type": "code",
   "execution_count": null,
   "id": "4eb76a8e-ea2f-41a3-b039-4bbb89bfb4b6",
   "metadata": {},
   "outputs": [],
   "source": []
  }
 ],
 "metadata": {
  "kernelspec": {
   "display_name": "Python [conda env:base] *",
   "language": "python",
   "name": "conda-base-py"
  },
  "language_info": {
   "codemirror_mode": {
    "name": "ipython",
    "version": 3
   },
   "file_extension": ".py",
   "mimetype": "text/x-python",
   "name": "python",
   "nbconvert_exporter": "python",
   "pygments_lexer": "ipython3",
   "version": "3.12.7"
  }
 },
 "nbformat": 4,
 "nbformat_minor": 5
}
